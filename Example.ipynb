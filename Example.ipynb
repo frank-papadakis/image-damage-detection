{
 "cells": [
  {
   "cell_type": "code",
   "execution_count": null,
   "metadata": {},
   "outputs": [],
   "source": []
  },
  {
   "cell_type": "code",
   "execution_count": 3,
   "metadata": {},
   "outputs": [],
   "source": [
    "import matplotlib.pyplot as plt\n",
    "import numpy as np\n",
    "import tensorflow as tf\n",
    "from tensorflow.keras.utils import to_categorical\n",
    "import pandas as pd\n",
    "import time\n",
    "from functions import plots\n",
    "from functions import finite_volumes as fv\n",
    "from functions import finite_volumes_split as fvs\n",
    "from functions import finite_volumes_par as fvp\n",
    "from functions import neural_network as nn\n",
    "import mnist"
   ]
  },
  {
   "cell_type": "markdown",
   "metadata": {},
   "source": [
    "# IMAGE INPAINTING WITH FLUID DYNAMICS"
   ]
  },
  {
   "cell_type": "markdown",
   "metadata": {},
   "source": [
    "Image inpainting aims to remove damage from an image. There are various techniques for image inpainting, and here we focus on solving a fluid-type PDE denoted as the Cahn-Hilliard equation.\n",
    "\n",
    "The three take-home messages from this notebook are that:\n",
    "\n",
    "1. Image inpainting can be solved with efficient and parallelizable finite-volume schemes\n",
    "2. The classification accuracy of neural networks is affected by the presence of damage \n",
    "3. The application of image inpainting in damaged images improves their classification accuracy\n",
    "\n",
    "<p>&nbsp;</p>\n",
    "\n",
    "#### Damaged image:\n",
    "<img src=\"images/damage_23.png\" style=\"width:300px;height:250px;\" >\n",
    "\n",
    "#### Restored image:\n",
    "<img src=\"images/inpainting_23.png\" style=\"width:300px;height:250px;\" >"
   ]
  },
  {
   "cell_type": "markdown",
   "metadata": {},
   "source": [
    "As an example we take the MNIST dataset, which consists of binary images of handwritten digits:"
   ]
  },
  {
   "cell_type": "code",
   "execution_count": 4,
   "metadata": {},
   "outputs": [
    {
     "data": {
      "image/png": "[encoded data removed]",
      "text/plain": [
       "<Figure size 432x288 with 1 Axes>"
      ]
     },
     "metadata": {
      "needs_background": "light"
     },
     "output_type": "display_data"
    }
   ],
   "source": [
    "test_images = mnist.test_images() # Load MNIST test set\n",
    "test_images = test_images.reshape((-1,784)) # Flatten\n",
    "test_images = (test_images / 255) *2-1 # Normalize between -1 and 1\n",
    "example = test_images[0,:] # Select 1 image\n",
    "plots.plot_image(example) # Plot image"
   ]
  },
  {
   "cell_type": "markdown",
   "metadata": {},
   "source": [
    "The MNIST dataset is corrupted by adding different types of damage to it:"
   ]
  },
  {
   "cell_type": "code",
   "execution_count": 5,
   "metadata": {},
   "outputs": [
    {
     "data": {
      "image/png": "[encoded data removed]",
      "text/plain": [
       "<Figure size 432x288 with 1 Axes>"
      ]
     },
     "metadata": {
      "needs_background": "light"
     },
     "output_type": "display_data"
    }
   ],
   "source": [
    "intensity = 0.5 # elect % of damaged pixels\n",
    "\n",
    "damage = np.random.choice(np.arange(example.size), replace=False, \n",
    "                          size=int(example.size * intensity)) # Create random damage\n",
    "damaged_example = example.copy() # Generate damaged example\n",
    "damaged_example[damage] = 0 # Turn damaged pixels to 0\n",
    "plots.plot_image(damaged_example) # Plot image"
   ]
  },
  {
   "cell_type": "markdown",
   "metadata": {},
   "source": [
    "## Finite volumes for image inpainting"
   ]
  },
  {
   "cell_type": "markdown",
   "metadata": {},
   "source": [
    "With image inpainting we aim to recover the original image. There are various methods to conduct image inpainting, and here I solve a modified Cahn-Hilliard equation via finite-volume schemes:\n",
    "\n",
    "\n",
    "$$\n",
    "\\frac{\\partial \\phi (x,t)}{\\partial t}= -\\nabla^{2} \\left(\\epsilon^2 \\nabla^{2} \\phi -  H'(\\phi) \\right) + \\lambda(x)\\left(\\phi (x,t=0) - \\phi\\right)\n",
    "$$\n",
    "\n",
    "As a baseline let's solve this equation with a simple finite-volume scheme:"
   ]
  },
  {
   "cell_type": "code",
   "execution_count": 6,
   "metadata": {},
   "outputs": [
    {
     "name": "stdout",
     "output_type": "stream",
     "text": [
      "--------------------\n",
      "Time:  0.0\n",
      "['L1 norm of the difference between the new and old state: ', 287.3386803062433]\n",
      "--------------------\n",
      "Time:  0.1\n",
      "['L1 norm of the difference between the new and old state: ', 67.94696179284345]\n",
      "--------------------\n",
      "Time:  0.2\n",
      "['L1 norm of the difference between the new and old state: ', 28.44534121387825]\n",
      "--------------------\n",
      "Time:  0.30000000000000004\n",
      "['L1 norm of the difference between the new and old state: ', 11.891385877497221]\n",
      "--------------------\n",
      "Time:  0.4\n",
      "['L1 norm of the difference between the new and old state: ', 6.234427214932593]\n",
      "--------------------\n",
      "Time:  0.5\n",
      "['L1 norm of the difference between the new and old state: ', 3.2354780776968823]\n",
      "--------------------\n",
      "Time:  0.6\n",
      "['L1 norm of the difference between the new and old state: ', 1.88598721436359]\n",
      "--------------------\n",
      "Time:  0.7\n",
      "['L1 norm of the difference between the new and old state: ', 1.1229330707104483]\n",
      "--------------------\n",
      "Time:  0.7999999999999999\n",
      "['L1 norm of the difference between the new and old state: ', 0.7195502758431865]\n",
      "--------------------\n",
      "Time:  0.8999999999999999\n",
      "['L1 norm of the difference between the new and old state: ', 0.47599848710950277]\n",
      "--------------------\n",
      "Time:  0.9999999999999999\n",
      "['L1 norm of the difference between the new and old state: ', 0.3344530680992252]\n",
      "--------------------\n",
      "Time:  1.0999999999999999\n",
      "['L1 norm of the difference between the new and old state: ', 0.2415487745257381]\n",
      "--------------------\n",
      "Time:  1.2\n",
      "['L1 norm of the difference between the new and old state: ', 5.155647488461762]\n",
      "--------------------\n",
      "Time:  1.3\n",
      "['L1 norm of the difference between the new and old state: ', 3.735993958164805]\n",
      "--------------------\n",
      "Time:  1.4000000000000001\n",
      "['L1 norm of the difference between the new and old state: ', 2.847363807125336]\n",
      "--------------------\n",
      "Time:  1.5000000000000002\n",
      "['L1 norm of the difference between the new and old state: ', 2.2190774547326058]\n",
      "--------------------\n",
      "Time:  1.6000000000000003\n",
      "['L1 norm of the difference between the new and old state: ', 1.7501136697822366]\n",
      "--------------------\n",
      "Time:  1.7000000000000004\n",
      "['L1 norm of the difference between the new and old state: ', 1.393346653504623]\n",
      "--------------------\n",
      "Time:  1.8000000000000005\n",
      "['L1 norm of the difference between the new and old state: ', 1.118696540803968]\n",
      "--------------------\n",
      "Time:  1.9000000000000006\n",
      "['L1 norm of the difference between the new and old state: ', 0.9089160393224409]\n",
      "--------------------\n",
      "Time:  2.0000000000000004\n",
      "['L1 norm of the difference between the new and old state: ', 0.7501595558643759]\n",
      "--------------------\n",
      "Time:  2.1000000000000005\n",
      "['L1 norm of the difference between the new and old state: ', 0.6255036685820431]\n",
      "--------------------\n",
      "Time:  2.2000000000000006\n",
      "['L1 norm of the difference between the new and old state: ', 0.5287768026363167]\n",
      "--------------------\n",
      "Time:  2.3000000000000007\n",
      "['L1 norm of the difference between the new and old state: ', 0.45172304353043435]\n",
      "--------------------\n",
      "Time:  2.400000000000001\n",
      "['L1 norm of the difference between the new and old state: ', 0.3943411683535547]\n",
      "--------------------\n",
      "Time:  2.500000000000001\n",
      "['L1 norm of the difference between the new and old state: ', 0.34684533762614045]\n",
      "--------------------\n",
      "Time:  2.600000000000001\n",
      "['L1 norm of the difference between the new and old state: ', 0.30716410305567815]\n",
      "--------------------\n",
      "Time:  2.700000000000001\n",
      "['L1 norm of the difference between the new and old state: ', 0.2750127062958283]\n",
      "--------------------\n",
      "Time:  2.800000000000001\n",
      "['L1 norm of the difference between the new and old state: ', 0.24933772528458814]\n",
      "--------------------\n",
      "Time:  2.9000000000000012\n",
      "['L1 norm of the difference between the new and old state: ', 0.22740550983564878]\n",
      "--------------------\n",
      "Time:  3.0000000000000013\n",
      "['L1 norm of the difference between the new and old state: ', 0.20859820747064212]\n",
      "--------------------\n",
      "Time:  3.1000000000000014\n",
      "['L1 norm of the difference between the new and old state: ', 0.19222378214103475]\n",
      "--------------------\n",
      "Time:  3.2000000000000015\n",
      "['L1 norm of the difference between the new and old state: ', 0.17780134916179396]\n",
      "--------------------\n",
      "Time:  3.3000000000000016\n",
      "['L1 norm of the difference between the new and old state: ', 0.1652575544890591]\n",
      "--------------------\n",
      "Time:  3.4000000000000017\n",
      "['L1 norm of the difference between the new and old state: ', 0.15403497989757942]\n",
      "--------------------\n",
      "Time:  3.5000000000000018\n",
      "['L1 norm of the difference between the new and old state: ', 0.1439675047904899]\n",
      "--------------------\n",
      "Time:  3.600000000000002\n",
      "['L1 norm of the difference between the new and old state: ', 0.13490137179714573]\n",
      "--------------------\n",
      "Time:  3.700000000000002\n",
      "['L1 norm of the difference between the new and old state: ', 0.12674316400187174]\n",
      "--------------------\n",
      "Time:  3.800000000000002\n",
      "['L1 norm of the difference between the new and old state: ', 0.11945678980865451]\n",
      "--------------------\n",
      "Time:  3.900000000000002\n",
      "['L1 norm of the difference between the new and old state: ', 0.11287860828612356]\n",
      "--------------------\n",
      "Time:  4.000000000000002\n",
      "['L1 norm of the difference between the new and old state: ', 0.10685255199962264]\n",
      "--------------------\n",
      "Time:  4.100000000000001\n",
      "['L1 norm of the difference between the new and old state: ', 0.10132291968825247]\n",
      "--------------------\n",
      "Time:  4.200000000000001\n",
      "['L1 norm of the difference between the new and old state: ', 0.09636320706688678]\n",
      "--------------------\n",
      "Time:  4.300000000000001\n",
      "['L1 norm of the difference between the new and old state: ', 0.09181010821647986]\n",
      "--------------------\n",
      "Time:  4.4\n",
      "['L1 norm of the difference between the new and old state: ', 0.08760623399976704]\n",
      "--------------------\n",
      "Time:  4.5\n",
      "['L1 norm of the difference between the new and old state: ', 0.08371791408007796]\n",
      "--------------------\n",
      "Time:  4.6\n",
      "['L1 norm of the difference between the new and old state: ', 0.08016091756764362]\n",
      "--------------------\n",
      "Time:  4.699999999999999\n",
      "['L1 norm of the difference between the new and old state: ', 0.07691694795534842]\n",
      "--------------------\n",
      "Time:  4.799999999999999\n",
      "['L1 norm of the difference between the new and old state: ', 0.07389757901606639]\n",
      "--------------------\n",
      "Time:  4.899999999999999\n",
      "['L1 norm of the difference between the new and old state: ', 0.07108545672018929]\n",
      "--------------------\n",
      "Time:  4.999999999999998\n",
      "['L1 norm of the difference between the new and old state: ', 0.06845786505716916]\n",
      "--------------------\n",
      "Time:  5.099999999999998\n",
      "['L1 norm of the difference between the new and old state: ', 0.06602213119892514]\n",
      "--------------------\n",
      "Time:  5.1999999999999975\n",
      "['L1 norm of the difference between the new and old state: ', 0.06372907430079613]\n",
      "--------------------\n",
      "Time:  5.299999999999997\n",
      "['L1 norm of the difference between the new and old state: ', 0.0615682918532462]\n",
      "--------------------\n",
      "Time:  5.399999999999997\n",
      "['L1 norm of the difference between the new and old state: ', 0.059527899795825526]\n",
      "--------------------\n",
      "Time:  5.4999999999999964\n",
      "['L1 norm of the difference between the new and old state: ', 0.057600064050497356]\n",
      "--------------------\n",
      "Time:  5.599999999999996\n",
      "['L1 norm of the difference between the new and old state: ', 0.05577347782284308]\n",
      "--------------------\n",
      "Time:  5.699999999999996\n",
      "['L1 norm of the difference between the new and old state: ', 0.054039186828807186]\n",
      "--------------------\n",
      "Time:  5.799999999999995\n",
      "['L1 norm of the difference between the new and old state: ', 0.05238936526638697]\n",
      "--------------------\n",
      "Time:  5.899999999999995\n",
      "['L1 norm of the difference between the new and old state: ', 0.05081717653842839]\n",
      "Total time: 48.02\n"
     ]
    },
    {
     "data": {
      "image/png": "[encoded data removed]",
      "text/plain": [
       "<Figure size 432x288 with 1 Axes>"
      ]
     },
     "metadata": {
      "needs_background": "light"
     },
     "output_type": "display_data"
    }
   ],
   "source": [
    "start = time.time() # Start time\n",
    "restored_example = fv.temporal_loop(damaged_example, damage) # Run finite-volume scheme\n",
    "print(\"Total time: {:.2f}\".format(time.time()-start)) # Print spent time\n",
    "plots.plot_image(restored_example) # Plot image"
   ]
  },
  {
   "cell_type": "code",
   "execution_count": 8,
   "metadata": {},
   "outputs": [
    {
     "data": {
      "text/plain": [
       "array([620, 398, 499, 238, 326, 737,  99, 577, 217, 365, 605, 313, 340,\n",
       "       438,  11, 544, 660, 317, 130, 693, 322, 428, 583, 375, 449, 728,\n",
       "       199, 590,  24, 771, 209, 210, 455, 542, 550, 658, 769, 539, 276,\n",
       "       498, 372, 734, 291, 232, 598, 434, 427, 164, 359, 181, 639,  47,\n",
       "       687, 370, 472, 168, 377,   1, 756, 664, 413, 318, 489, 652, 257,\n",
       "       708, 619, 533, 515, 566, 207, 182, 634, 268, 468, 314, 757, 212,\n",
       "       333, 781, 275, 240, 260, 739, 647, 127, 645, 559,  57, 249, 568,\n",
       "       754, 661, 279, 705, 514, 155, 513, 704, 445, 719,  68, 117, 523,\n",
       "       669, 406, 345, 308, 723, 511,  87,  38, 315, 518, 143, 441, 243,\n",
       "       557, 543, 412, 192, 154, 339, 265,  82, 482, 239, 252,  36, 148,\n",
       "       651, 516, 548, 163, 244, 736, 522, 266, 353, 144, 624, 586, 401,\n",
       "       686, 713,  28, 475, 683, 582, 752, 410, 650, 474, 273, 581, 356,\n",
       "       606, 666, 444,   4, 534, 403,  40, 408, 570, 223, 151, 110, 483,\n",
       "       204, 749, 162, 189, 404, 442, 525, 593, 136, 748, 286, 656, 579,\n",
       "       640, 197, 422, 712, 711, 461, 402, 572, 106, 338, 745, 215,  91,\n",
       "       680,  25, 659, 367, 113, 251, 478, 224, 594, 609, 297, 592,  92,\n",
       "       673, 216, 374, 123, 371, 477, 565, 271, 417, 735, 487, 433, 320,\n",
       "       709, 247, 677, 283, 250, 277, 174,  56, 783, 770, 194, 150, 628,\n",
       "       302, 159, 284, 298,  97, 703, 755, 541, 129, 638,  48, 486, 373,\n",
       "        42, 289, 358, 254, 574, 556, 173, 714, 571, 657, 678,  72, 604,\n",
       "       466, 655, 721, 399, 457, 573, 500, 538,  80, 102, 702, 464, 420,\n",
       "        67, 696, 336, 435,  33, 290,  31, 310, 465, 733,  37,  78,  58,\n",
       "        12, 134, 591, 453, 198, 149,  60, 233, 138, 180, 195,  65, 623,\n",
       "       762, 553, 296, 607, 328, 253, 335, 141, 137, 726, 727,  22, 545,\n",
       "        81,  77, 765, 222, 512, 471, 287, 235, 226,   0, 672, 229, 282,\n",
       "       376, 467, 491, 270, 470, 454,  83, 304, 521, 473,  76, 397, 451,\n",
       "       327, 685, 128, 311, 531, 629, 600, 730,  86, 135, 551, 415, 772,\n",
       "        23, 597, 337, 691, 219, 101, 718, 165, 690, 775, 396, 510, 476,\n",
       "       462, 211, 300, 379,  27, 608, 288, 188, 636, 595, 580, 603, 599,\n",
       "       614,   2, 627, 360, 699, 105, 492, 357, 405,  98, 618, 626, 710,\n",
       "       272, 567])"
      ]
     },
     "execution_count": 8,
     "metadata": {},
     "output_type": "execute_result"
    }
   ],
   "source": [
    "damage"
   ]
  },
  {
   "cell_type": "markdown",
   "metadata": {},
   "source": [
    "Let's compare the restored image with respect to the original image:\n"
   ]
  },
  {
   "cell_type": "code",
   "execution_count": null,
   "metadata": {},
   "outputs": [],
   "source": [
    "plots.plot_3images(example, damaged_example, restored_example)  # Plot 3 images"
   ]
  },
  {
   "cell_type": "markdown",
   "metadata": {},
   "source": [
    "The computational cost of finite-volume scheme can be reduced by:\n",
    "\n",
    "1. Applying a dimensional-splitting technique and solving row by row and column by column\n",
    "2. Parallelizing the code and solving rows/columns simultaneously\n",
    "\n",
    "The simple finite-volume scheme has taken 40s to run. Let's compare it with the dimensional-splitting code:fully parallelized code:"
   ]
  },
  {
   "cell_type": "code",
   "execution_count": null,
   "metadata": {},
   "outputs": [],
   "source": [
    "start = time.time() # Start time\n",
    "restored_example = fvs.temporal_loop_split(damaged_example, damage) # Run finite-volume scheme\n",
    "print(\"Total time: {:.2f}\".format(time.time()-start)) # Print spent time\n",
    "plots.plot_image(restored_example) # Plot image"
   ]
  },
  {
   "cell_type": "markdown",
   "metadata": {},
   "source": [
    "By dimensionally splitting the code we have reduced the computational time from 40s to 8s!\n",
    "\n",
    "Can we reduce that time by parallelizing?"
   ]
  },
  {
   "cell_type": "code",
   "execution_count": null,
   "metadata": {},
   "outputs": [],
   "source": [
    "num_proc = 8 # Number of processors\n",
    "start = time.time() # Start time\n",
    "restored_example = fvp.temporal_loop_par(damaged_example, damage, num_proc) # Run finite-volume scheme\n",
    "print(\"Total time: {:.2f}\".format(time.time()-start)) # Print spent time\n",
    "plots.plot_image(restored_example) # Plot image"
   ]
  },
  {
   "cell_type": "markdown",
   "metadata": {},
   "source": [
    "The parallel code takes 15 seconds, which is a higher than the non-parallel one. Parallelizing the code does not reduce that time since MNIST images are only 28x28. However, for high-dimensional images it has a clear benefit."
   ]
  },
  {
   "cell_type": "markdown",
   "metadata": {},
   "source": [
    "## Neural network for classification"
   ]
  },
  {
   "cell_type": "markdown",
   "metadata": {},
   "source": [
    "![title](images/NN.png)"
   ]
  },
  {
   "cell_type": "markdown",
   "metadata": {},
   "source": [
    "The neural network is trained with the undamaged training dataset. Then we compare its accuracy for the test images with and without damage:"
   ]
  },
  {
   "cell_type": "code",
   "execution_count": null,
   "metadata": {},
   "outputs": [],
   "source": [
    "train_images = mnist.train_images() # Load training set\n",
    "train_labels = mnist.train_labels() # Load training labels\n",
    "train_images = (train_images / 255) *2-1 # Normalize between -1 and 1\n",
    "train_images = train_images.reshape((-1,784)) # Flatten\n",
    "\n",
    "model, history = nn.training(train_images, train_labels) # Train the neural network\n",
    "plots.loss_acc_plots(history) # Plot loss and accuracy\n",
    "\n",
    "test_labels = mnist.test_labels() # Load test labels\n",
    "print(\"Validation of undamaged test set:\")\n",
    "test_loss, test_accuracy = model.evaluate(test_images, to_categorical(test_labels), \n",
    "                                          verbose=2) # Print test loss and acc"
   ]
  },
  {
   "cell_type": "markdown",
   "metadata": {},
   "source": [
    "The accuracy for the test dataset is quite high: 97%. This accuracy drops as we include damage in the test images. For instance, with an intensity of 80% the accuracy is 55%. Can we recover the accuracy by firstly applying image inpainting?"
   ]
  },
  {
   "cell_type": "markdown",
   "metadata": {},
   "source": [
    "## Image inpainting prior to classifying damaged images"
   ]
  },
  {
   "cell_type": "markdown",
   "metadata": {},
   "source": [
    "Let's select a group of 5 images to add damage:"
   ]
  },
  {
   "cell_type": "code",
   "execution_count": null,
   "metadata": {},
   "outputs": [],
   "source": [
    "n_images = 5 # Number of images\n",
    "indices_images = range(5) # Select indices\n",
    "examples = test_images[indices_images,:].copy() # Choose examples from test set\n",
    "\n",
    "intensity = 0.8 # Damage intensity\n",
    "# damages = np.zeros((len(indices_images), int(examples.shape[1] * intensity)), dtype=int) # Instantiate damage matrices\n",
    "# damaged_examples = examples.copy() # Instantiate damaged examples\n",
    "\n",
    "damages = np.load(\"data/damages.npy\") # Load a previously saved damage matrix\n",
    "\n",
    "for i in range(len(indices_images)): # Loop over examples t introduce damage\n",
    "#     damages[i, :] = np.random.choice(np.arange(examples.shape[1]), replace=False, \n",
    "#                                      size=int(examples.shape[1] * intensity)) # Choose random damage\n",
    "    damaged_examples[i, damages[i, :]] = 0 # Turn damaged pixels to 0\n",
    "\n",
    "plots.plot_image(damaged_examples[1,:]) # Plot one of the damaged examples"
   ]
  },
  {
   "cell_type": "markdown",
   "metadata": {},
   "source": [
    "We proceed to restore those 5 images:"
   ]
  },
  {
   "cell_type": "code",
   "execution_count": null,
   "metadata": {},
   "outputs": [],
   "source": [
    "restored_examples = np.zeros(examples.shape) # Instantiate restored examples\n",
    "\n",
    "for i in range(n_images): # Loop over damaged imaged\n",
    "    restored_examples[i,:] = fvs.temporal_loop_split(\n",
    "                                damaged_examples[i, :], damages[i, :])\n",
    "\n",
    "plots.plot_3images(examples[1,:], damaged_examples[1,:], restored_examples[1,:])"
   ]
  },
  {
   "cell_type": "markdown",
   "metadata": {},
   "source": [
    "We can now compare the ground truth with the predicted labels for the damaged and restore images:"
   ]
  },
  {
   "cell_type": "code",
   "execution_count": null,
   "metadata": {},
   "outputs": [],
   "source": [
    "predictions_damaged = np.argmax(model.predict(damaged_examples), axis=1)  \n",
    "predictions_restored = np.argmax(model.predict(restored_examples), axis=1)    \n",
    "\n",
    "print(\"Ground truth: \", test_labels[indices_images])\n",
    "print(\"Damaged images: \", predictions_damaged)\n",
    "print(\"Restored images: \", predictions_restored)"
   ]
  },
  {
   "cell_type": "markdown",
   "metadata": {},
   "source": [
    "## Final remarks"
   ]
  },
  {
   "cell_type": "markdown",
   "metadata": {},
   "source": [
    "The three take-home messages from this notebook are that:\n",
    "\n",
    "1. Image inpainting can be solved with efficient and parallelizable finite-volume schemes\n",
    "2. The classification accuracy of neural networks is affected by the presence of damage \n",
    "3. The application of image inpainting in damaged images improves their classification accuracy"
   ]
  },
  {
   "cell_type": "code",
   "execution_count": null,
   "metadata": {},
   "outputs": [],
   "source": []
  }
 ],
 "metadata": {
  "kernelspec": {
   "display_name": "Python 3",
   "language": "python",
   "name": "python3"
  },
  "language_info": {
   "codemirror_mode": {
    "name": "ipython",
    "version": 3
   },
   "file_extension": ".py",
   "mimetype": "text/x-python",
   "name": "python",
   "nbconvert_exporter": "python",
   "pygments_lexer": "ipython3",
   "version": "3.7.6"
  }
 },
 "nbformat": 4,
 "nbformat_minor": 2
}
